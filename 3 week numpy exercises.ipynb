{
 "cells": [
  {
   "cell_type": "markdown",
   "metadata": {},
   "source": [
    "## 3 week Exercises"
   ]
  },
  {
   "cell_type": "markdown",
   "metadata": {},
   "source": [
    "### 1. 어떤 벡터가 주어졌을 때 L2 norm을 구하는 함수 `get_L2_norm()`을 작성하세요\n",
    "\n",
    "- **매개변수**: 1차원 벡터 (`np.array`)\n",
    "- **반환값**: 인자로 주어진 벡터의 L2 Norm값 (`number`)"
   ]
  },
  {
   "cell_type": "markdown",
   "metadata": {},
   "source": [
    "**L2 norm** = $\\sqrt{\\sum_{i=1}^{n} x_{i}^{2}}$ "
   ]
  },
  {
   "cell_type": "code",
   "execution_count": 32,
   "metadata": {},
   "outputs": [
    {
     "name": "stdout",
     "output_type": "stream",
     "text": [
      "행렬 arr:\n",
      "[[1 2 3]\n",
      " [4 5 6]\n",
      " [7 8 9]] \n",
      "\n",
      "np를 사용한 L2 norm: 16.881943016134134\n",
      "np를 사용하지 않은 L2 norm: 16.881943016134134\n"
     ]
    }
   ],
   "source": [
    "import numpy as np\n",
    "\n",
    "def get_L2_norm_np(vec):  \n",
    "    return np.linalg.norm(vec)\n",
    "\n",
    "\n",
    "def get_L2_norm(vec):\n",
    "    return np.sqrt(np.sum(vec**2))\n",
    "\n",
    "\n",
    "arr = np.array([[1,2,3],[4,5,6],[7,8,9]])\n",
    "\n",
    "print(\"행렬 arr:\")\n",
    "print(arr, '\\n')\n",
    "print(\"np를 사용한 L2 norm: {}\".format(get_L2_norm_np(arr)))\n",
    "print(\"np를 사용하지 않은 L2 norm: {}\".format(get_L2_norm(arr)))"
   ]
  },
  {
   "cell_type": "markdown",
   "metadata": {},
   "source": [
    "  \n",
    "    \n",
    "    \n",
    "    "
   ]
  },
  {
   "cell_type": "markdown",
   "metadata": {},
   "source": [
    "### 2. 어떤 행렬이 singular matrix인지 확인하는 함수 `is_singular()`를 작성하세요\n",
    "\n",
    "- **매개변수**: 2차원 벡터(`np.array`)\n",
    "- 반환값: 인자로 주어진 벡터가 singular하면 True, non-singular하면 False를 반환"
   ]
  },
  {
   "cell_type": "markdown",
   "metadata": {},
   "source": [
    "**행렬 A의 역인 $A^{-1}$이 존재하지 않을 때,  \n",
    "즉, 역행렬이 존재하지 않을 때 행렬 A를 singular matrix라고 한다.**"
   ]
  },
  {
   "cell_type": "markdown",
   "metadata": {},
   "source": [
    "**역행렬이 존재하지 않을 조건은 행렬식 == 0이다.  \n",
    "즉, det(A) == 0이면 행렬 A의 역행렬은 존재하지 않는다.**"
   ]
  },
  {
   "cell_type": "code",
   "execution_count": 41,
   "metadata": {},
   "outputs": [
    {
     "name": "stdout",
     "output_type": "stream",
     "text": [
      "-2.0000000000000004\n",
      "False\n",
      "\n",
      "\n",
      "0.0\n",
      "True\n"
     ]
    }
   ],
   "source": [
    "def is_singular(mat):\n",
    "    if np.linalg.det(mat) == 0:\n",
    "        return True\n",
    "    else:\n",
    "        return False\n",
    "\n",
    "\n",
    "arr = np.array([[1,2],[3,4]])\n",
    "arr2 = np.array([[-2,-1],[2,1]])\n",
    "\n",
    "print(np.linalg.det(arr))    # 행렬 arr의 행렬식 det(arr)\n",
    "print(is_singular(arr))      # 행렬식이 0이 아니므로 역행렬이 존재하는 matrix이다.\n",
    "                             # 따라서 False를 반환\n",
    "print(\"\\n\")\n",
    "print(np.linalg.det(arr2))   # 행렬 arr2의 행렬식 det(arr2)\n",
    "print(is_singular(arr2))     # 행력식이 0이므로 역행렬이 존재하지 않는 singular matrix이다.\n",
    "                             # 따라서 True를 반환"
   ]
  }
 ],
 "metadata": {
  "kernelspec": {
   "display_name": "Python 3",
   "language": "python",
   "name": "python3"
  },
  "language_info": {
   "codemirror_mode": {
    "name": "ipython",
    "version": 3
   },
   "file_extension": ".py",
   "mimetype": "text/x-python",
   "name": "python",
   "nbconvert_exporter": "python",
   "pygments_lexer": "ipython3",
   "version": "3.7.1"
  }
 },
 "nbformat": 4,
 "nbformat_minor": 4
}
